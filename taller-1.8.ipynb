{
 "cells": [
  {
   "cell_type": "markdown",
   "metadata": {},
   "source": [
    "# Ejercicio: Sistema de Puntos Flotantes\n",
    "\n",
    "Considere el sistema de puntos flotante con base $\\beta = 2$ y mantisa de 4 dígitos.\n",
    "\n",
    "## Preguntas\n",
    "\n",
    "1. **¿Cuántos elementos del sistema hay en el intervalo real $[\\frac{1}{2}, 4]$, incluyendo los extremos?**\n",
    "\n",
    "2. **¿Cuál es el elemento del sistema más cercano al número real $\\frac{1}{10}$?**  \n",
    "   *Pista*: Encuentra el intervalo $[2^n, 2^{n+1}]$ que contiene a $\\frac{1}{10}$, luego enumera todos los candidatos en el sistema.\n",
    "\n",
    "3. **¿Cuál es el menor entero positivo que no está en el sistema?**  \n",
    "   *Pista*: ¿Para qué valor del exponente el espacio entre números de punto flotante se vuelve mayor que $17$?\n"
   ]
  },
  {
   "cell_type": "markdown",
   "metadata": {},
   "source": [
    "Veamos algunas caracteristicas de este sistema:\n",
    "\n",
    "- Tenemos que el numero mas grande en este sistema  es el $1.111_2$ el cual en decimal es $1.875_{10}$ \n",
    "- El numero mas pequeño que podemos tener es el $0.001_2 = 0.125_{10}$ "
   ]
  },
  {
   "cell_type": "markdown",
   "metadata": {},
   "source": [
    "\n",
    "1. Tenemos:\n",
    "$$1.875_{10}\n",
    "- 1.720_{10}\n",
    "- 1.595_{10} $$\n",
    "Lo que estamos haciendo es del extremo derecho moviendonos con el paso mas pequeño que tenemos."
   ]
  },
  {
   "cell_type": "code",
   "execution_count": null,
   "metadata": {},
   "outputs": [],
   "source": [
    "### Codigo de los calculos"
   ]
  },
  {
   "cell_type": "markdown",
   "metadata": {},
   "source": [
    "2. Existen aproximaciones racionales mucho mejores a $\\pi$ que $22 / 7$. Para cada una a continuación, encuentra su precisión absoluta y relativa, y determine el número de dígitos precisos.\n",
    "\n",
    "- $355 / 113$\n",
    "\n",
    "-  $103638 / 32989$\n"
   ]
  },
  {
   "cell_type": "code",
   "execution_count": null,
   "metadata": {},
   "outputs": [],
   "source": [
    "import math"
   ]
  },
  {
   "cell_type": "code",
   "execution_count": 8,
   "metadata": {},
   "outputs": [
    {
     "name": "stdout",
     "output_type": "stream",
     "text": [
      "Precision Absoluta:  0.0012644892673496777\n",
      "Precision Relativa:  0.0004024994347707008\n"
     ]
    }
   ],
   "source": [
    "pa = abs(22/7 - math.pi) # precision absoluta\n",
    "pr = abs(22/7 - math.pi) / math.pi # precision relativa\n",
    "\n",
    "print(\"Precision Absoluta: \", pa)\n",
    "print(\"Precision Relativa: \", pr)"
   ]
  },
  {
   "cell_type": "code",
   "execution_count": 14,
   "metadata": {},
   "outputs": [
    {
     "name": "stdout",
     "output_type": "stream",
     "text": [
      "Precision Absoluta:  2.667641894049666e-07\n",
      "Precision Relativa:  8.49136787674061e-08\n"
     ]
    }
   ],
   "source": [
    "n = 355 / 113\n",
    "pa = abs(n - math.pi) # precision absoluta\n",
    "pr = abs(n - math.pi) / math.pi # precision relativa\n",
    "\n",
    "print(\"Precision Absoluta: \", pa)\n",
    "print(\"Precision Relativa: \", pr)"
   ]
  },
  {
   "cell_type": "code",
   "execution_count": 7,
   "metadata": {},
   "outputs": [
    {
     "name": "stdout",
     "output_type": "stream",
     "text": [
      "Precision Absoluta:  1.493639878447084e-09\n",
      "Precision Relativa:  4.754403397080622e-10\n"
     ]
    }
   ],
   "source": [
    "n = 103638 / 32989\n",
    "pa = abs(n - math.pi) # precision absoluta\n",
    "pr = abs(n - math.pi) / math.pi # precision relativa\n",
    "\n",
    "print(\"Precision Absoluta: \", pa)\n",
    "print(\"Precision Relativa: \", pr)"
   ]
  }
 ],
 "metadata": {
  "kernelspec": {
   "display_name": "base",
   "language": "python",
   "name": "python3"
  },
  "language_info": {
   "codemirror_mode": {
    "name": "ipython",
    "version": 3
   },
   "file_extension": ".py",
   "mimetype": "text/x-python",
   "name": "python",
   "nbconvert_exporter": "python",
   "pygments_lexer": "ipython3",
   "version": "3.12.2"
  }
 },
 "nbformat": 4,
 "nbformat_minor": 2
}
