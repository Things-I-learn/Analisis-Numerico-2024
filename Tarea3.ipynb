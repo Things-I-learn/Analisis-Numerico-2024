{
  "nbformat": 4,
  "nbformat_minor": 0,
  "metadata": {
    "colab": {
      "provenance": []
    },
    "kernelspec": {
      "name": "python3",
      "display_name": "Python 3"
    },
    "language_info": {
      "name": "python"
    }
  },
  "cells": [
    {
      "cell_type": "markdown",
      "source": [
        "\n",
        "1. Sea\n",
        "$$\n",
        "A=\\left(\\begin{array}{ccc}\n",
        "0 & -20 & 14 \\\\\n",
        "-3 & 27 & 4 \\\\\n",
        "-4 & 11 & 2\n",
        "\\end{array}\\right)\n",
        "$$\n",
        "Implemente los métodos de ortogonalización de Gram-Schmindt y Householder, para calcular $A=Q R$, compare los resultados numéricos con los encontrados en las partes (a) y (b)."
      ],
      "metadata": {
        "id": "xzskv6ZIhLjj"
      }
    },
    {
      "cell_type": "code",
      "execution_count": null,
      "metadata": {
        "colab": {
          "base_uri": "https://localhost:8080/"
        },
        "id": "0q82IpESdeB1",
        "outputId": "915babd6-b7f0-474c-9ede-06bf1c50c563"
      },
      "outputs": [
        {
          "output_type": "stream",
          "name": "stdout",
          "text": [
            "Gram-Schmidt:\n",
            "Q:\n",
            " [[ 0.   -0.8   0.6 ]\n",
            " [-0.6   0.48  0.64]\n",
            " [-0.8  -0.36 -0.48]]\n",
            "R:\n",
            " [[  5. -25.  -4.]\n",
            " [  0.  25. -10.]\n",
            " [  0.   0.  10.]]\n",
            "Householder:\n",
            "Q:\n",
            " [[ 2.22044605e-16  8.00000000e-01 -6.00000000e-01]\n",
            " [ 6.00000000e-01 -4.80000000e-01 -6.40000000e-01]\n",
            " [ 8.00000000e-01  3.60000000e-01  4.80000000e-01]]\n",
            "R:\n",
            " [[-5.00000000e+00  2.50000000e+01  4.00000000e+00]\n",
            " [ 0.00000000e+00 -2.50000000e+01  1.00000000e+01]\n",
            " [ 0.00000000e+00 -5.99520433e-15 -1.00000000e+01]]\n"
          ]
        }
      ],
      "source": [
        "import numpy as np\n",
        "\n",
        "def gram_schmidt(A):\n",
        "    m, n = A.shape\n",
        "    Q = np.zeros((m, n))\n",
        "    R = np.zeros((n, n))\n",
        "\n",
        "    for i in range(n):\n",
        "        v = A[:, i]\n",
        "        for j in range(i):\n",
        "            R[j, i] = np.dot(Q[:, j], A[:, i])\n",
        "            v = v - R[j, i] * Q[:, j]\n",
        "        R[i, i] = np.linalg.norm(v)\n",
        "        Q[:, i] = v / R[i, i]\n",
        "\n",
        "    return Q, R\n",
        "\n",
        "def householder(A):\n",
        "    m, n = A.shape\n",
        "    Q = np.eye(m)\n",
        "    R = A.copy()\n",
        "\n",
        "    for i in range(n):\n",
        "        x = R[i:, i]\n",
        "        e1 = np.zeros_like(x)\n",
        "        e1[0] = np.linalg.norm(x)\n",
        "        v = x + e1\n",
        "        v = v / np.linalg.norm(v)\n",
        "\n",
        "        H = np.eye(m)\n",
        "        H[i:, i:] -= 2.0 * np.outer(v, v)\n",
        "\n",
        "        R = H @ R\n",
        "        Q = Q @ H.T\n",
        "\n",
        "    return Q, R\n",
        "\n",
        "# Ejemplo de uso\n",
        "A = np.array([[0,-20,14],[-3,27,4],[-4,11,2]], dtype=float)\n",
        "\n",
        "Q_gs, R_gs = gram_schmidt(A)\n",
        "Q_hh, R_hh = householder(A)\n",
        "\n",
        "print(\"Gram-Schmidt:\")\n",
        "print(\"Q:\\n\", Q_gs)\n",
        "print(\"R:\\n\", R_gs)\n",
        "print(\"Householder:\")\n",
        "print(\"Q:\\n\", Q_hh)\n",
        "print(\"R:\\n\", R_hh)\n"
      ]
    },
    {
      "cell_type": "markdown",
      "source": [
        "\n",
        "2. Descargue el archivo *Datos.txt* de la página del curso. En este encontrará un conjunto de 21 datos. Copie estos datos y calcule el polinomio de ajuste de grado $5 p(x)=c_{0}+c_{1} x+c_{2} x^{2}+c_{3} x^{3}+c_{4} x^{4}+c_{5} x^{5}$ utilizando los métodos de ecuaciones normales y factorización QR. Compare sus resultados con los valores certificados $c_{i}=1$ para $i=0,1, \\ldots 5$. Encuentre el residual $\\|A c-y\\|_{2}$ en cada caso, así como la diferencia relativa con respecto a los valores certificados. Escriba sus conclusiones."
      ],
      "metadata": {
        "id": "u9BjeK6vhAjv"
      }
    },
    {
      "cell_type": "code",
      "source": [
        "import numpy as np\n",
        "import scipy.linalg as la\n",
        "\n",
        "x = np.arange(21)\n",
        "y = np.array([75901, -204794, 204863, -204436, 253665, -200894, 214131, -185192, 221249, -138370,\n",
        "              315911, -27644, 455253, 197434, 783995, 608816, 1370781, 1303798, 2205519, 2408860, 3444321])\n",
        "\n",
        "A = np.vander(x, 6)\n",
        "\n",
        "# Ecuaciones normales\n",
        "ATA = A.T @ A\n",
        "ATy = A.T @ y\n",
        "c_normal = np.linalg.solve(ATA, ATy)\n",
        "\n",
        "# QR\n",
        "Q, R = la.qr(A, mode='economic')\n",
        "y_tilde = Q.T @ y\n",
        "c_qr = la.solve(R, y_tilde)\n",
        "\n",
        "# Valores certificados\n",
        "c_true = np.ones(6)\n",
        "\n",
        "# Error residual ||Ac - y||_2\n",
        "residual_normal = np.linalg.norm(A @ c_normal - y, 2)\n",
        "residual_qr = np.linalg.norm(A @ c_qr - y, 2)\n",
        "\n",
        "# Diferencia relativa con los valores certificados\n",
        "diff_normal = np.linalg.norm(c_normal - c_true, 2) / np.linalg.norm(c_true, 2)\n",
        "diff_qr = np.linalg.norm(c_qr - c_true, 2) / np.linalg.norm(c_true, 2)\n",
        "\n",
        "print(\"Coeficientes usando ecuaciones normales:\", c_normal)\n",
        "print(\"Coeficientes usando factorización QR:\", c_qr)\n",
        "print(\"Residual (norma 2) - Ecuaciones normales:\", residual_normal)\n",
        "print(\"Residual (norma 2) - Factorización QR:\", residual_qr)\n",
        "print(\"Diferencia relativa - Ecuaciones normales:\", diff_normal)\n",
        "print(\"Diferencia relativa - Factorización QR:\", diff_qr)\n"
      ],
      "metadata": {
        "colab": {
          "base_uri": "https://localhost:8080/"
        },
        "id": "_wVpEfCafQgi",
        "outputId": "c365d5e0-de8a-40c6-de10-54130e7d65e1"
      },
      "execution_count": null,
      "outputs": [
        {
          "output_type": "stream",
          "name": "stdout",
          "text": [
            "Coeficientes usando ecuaciones normales: [1.         1.         1.00000001 0.99999991 1.00000026 0.99999987]\n",
            "Coeficientes usando factorización QR: [1. 1. 1. 1. 1. 1.]\n",
            "Residual (norma 2) - Ecuaciones normales: 914080.2371783344\n",
            "Residual (norma 2) - Factorización QR: 914080.2371783344\n",
            "Diferencia relativa - Ecuaciones normales: 1.2672898828311217e-07\n",
            "Diferencia relativa - Factorización QR: 1.0745195538266868e-09\n"
          ]
        }
      ]
    },
    {
      "cell_type": "markdown",
      "source": [
        "5. Considere el sistema $A x=b$ donde\n",
        "$$\n",
        "A:=\\left(\\begin{array}{ccccc}\n",
        "3 & -1 & -1 & 0 & 0 \\\\\n",
        "-1 & 4 & 0 & -2 & 0 \\\\\n",
        "-1 & 0 & 3 & -1 & 0 \\\\\n",
        "0 & -2 & -1 & 5 & -1 \\\\\n",
        "0 & 0 & 0 & -1 & 2\n",
        "\\end{array}\\right) \\quad b=\\left(\\begin{array}{c}\n",
        "2 \\\\\n",
        "-26 \\\\\n",
        "3 \\\\\n",
        "47 \\\\\n",
        "-10\n",
        "\\end{array}\\right)\n",
        "$$"
      ],
      "metadata": {
        "id": "jlBkGDulhija"
      }
    },
    {
      "cell_type": "code",
      "source": [
        "import numpy as np\n",
        "\n",
        "A = np.array([[3, -1, -1,  0,  0],\n",
        "              [-1, 4,  0, -2,  0],\n",
        "              [-1,  0,  3, -1,  0],\n",
        "              [0, -2, -1,  5, -1],\n",
        "              [0,  0,  0, -1,  2]])\n",
        "\n",
        "b = np.array([2, -26, 3, 47, -10])\n",
        "\n",
        "D = np.diag(np.diag(A))\n",
        "L = -np.tril(A, -1)\n",
        "U = -np.triu(A, 1)\n",
        "\n",
        "T_J = np.linalg.inv(D) @ (L + U)  # Matriz de Jacobi\n",
        "T_GS = np.linalg.inv(D - L) @ U    # Matriz de Gauss-Seidel\n",
        "\n",
        "rho_J = max(abs(np.linalg.eigvals(T_J)))\n",
        "rho_GS = max(abs(np.linalg.eigvals(T_GS)))\n",
        "\n",
        "w = 2 / (1 + np.sqrt(1 - rho_GS**2)) # Omega óptimo para SOR\n",
        "\n",
        "T_SOR = np.linalg.inv(D - w*L) @ ((1-w)*D + w*U)\n",
        "\n",
        "rho_SOR = max(abs(np.linalg.eigvals(T_SOR)))\n",
        "\n",
        "factor_reduccion = 1 - np.log(rho_GS)/np.log(rho_SOR)\n",
        "delta_k_GS = np.log(0.1) / np.log(rho_GS)\n",
        "delta_k_SOR = np.log(0.1) / np.log(rho_SOR)\n",
        "\n",
        "print(f\"Radio espectral de Jacobi: {rho_J:.2f}\")\n",
        "print(f\"Radio espectral de Gauss Seidel: {rho_GS:.2f}\")\n",
        "print(f\"Parámetro óptimo de sobrerelajación: {w:.2f}\")\n",
        "print(f\"Radio espectral de SOR: {rho_SOR:.2f}\")\n",
        "print(f\"SOR reduce el número de operaciones de Gauss Seidel en un {factor_reduccion*100:.2f}%\")\n",
        "print(f\"Se necesitan {delta_k_GS:.2f} iteraciones para mejorar la precisión de Gauss Seidel en una cifra decimal\")\n",
        "print(f\"Se necesitan {delta_k_SOR:.2f} iteraciones para mejorar la precisión de SOR en una cifra decimal\")"
      ],
      "metadata": {
        "colab": {
          "base_uri": "https://localhost:8080/"
        },
        "id": "A1UlcRsJgkx5",
        "outputId": "84b1501e-1c2b-4176-fd35-2cbeda42588e"
      },
      "execution_count": null,
      "outputs": [
        {
          "output_type": "stream",
          "name": "stdout",
          "text": [
            "Radio espectral de Jacobi: 0.72\n",
            "Radio espectral de Gauss Seidel: 0.51\n",
            "Parámetro óptimo de sobrerelajación: 1.08\n",
            "Radio espectral de SOR: 0.43\n",
            "SOR reduce el número de operaciones de Gauss Seidel en un 21.26%\n",
            "Se necesitan 3.44 iteraciones para mejorar la precisión de Gauss Seidel en una cifra decimal\n",
            "Se necesitan 2.71 iteraciones para mejorar la precisión de SOR en una cifra decimal\n"
          ]
        }
      ]
    },
    {
      "cell_type": "code",
      "source": [
        "np.log(0.1) / np.log(0.51)"
      ],
      "metadata": {
        "colab": {
          "base_uri": "https://localhost:8080/"
        },
        "id": "Yf8i-lXjy1Eq",
        "outputId": "17794989-0c3a-42d3-9fc1-862251b8855a"
      },
      "execution_count": null,
      "outputs": [
        {
          "output_type": "execute_result",
          "data": {
            "text/plain": [
              "3.4196238490876545"
            ]
          },
          "metadata": {},
          "execution_count": 18
        }
      ]
    },
    {
      "cell_type": "code",
      "source": [],
      "metadata": {
        "id": "3G-yOW1VzGLA"
      },
      "execution_count": null,
      "outputs": []
    }
  ]
}